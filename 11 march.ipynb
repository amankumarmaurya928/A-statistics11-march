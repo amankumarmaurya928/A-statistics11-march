{
 "cells": [
  {
   "cell_type": "code",
   "execution_count": 2,
   "id": "c2383e4e-f6d0-45d0-8e52-e6156d46c68b",
   "metadata": {},
   "outputs": [
    {
     "data": {
      "text/plain": [
       "'A z-test is used to test a Null Hypothesis if the population variance is known,or if the sample size is larger than 30\\n   ,for an unknown population variance. Z-scores use the average bone density of people of the same age, sex, and size as\\n   a comparator.\\n   Example:\\n      The average heights of all residents in a city is 169cm with std= 3.9 .A DOCTOR believes the mean to be different. \\nhe measured the height of 36 individuals and found the average height to be 169.5cm.\\n(a) State null and alternate hypothesis.\\n(b) At a 95% confidence level, is there enough evidence to reject the null hypothesis.\\nsol.\\nu = 169cm, std=3.9, n=36, mean=169.5\\nc.i = .95 , alpha= 1-.95=.05\\n1.null hypothesis(H0) = u=169cm\\n2.alternate hypothesis(H1)= u!=169cm\\n3.based C.I we will draw decision boundary\\n1-.025=.9750\\n   z-score= +-1.96\\n   if z is less than -1.96 or greater than 1.96, reject the null hypothesis.\\n   z- test\\n   Zd= (sample mean - u)/(std/sqrt(n))=2.31\\n   now, 2.31 > 1.96\\n   so, reject the null hypothesis.\\n\\n\\nA t-test is used when the sample size is less than 30 and the population variance is unknown.\\nT-scores compare bone density with that of a healthy person\\n Example:\\n   In the population the average IQ is 100. A team of researchers want to test a new medication to see if it has either\\n   a positive or negative effect on intelligence, or no effect at all. A sample of 30 participants who have taken the \\n   medication has a mean of 140 with a standard deviation of 20. did the medication affect intelligence?\\n   sol.\\n   u = 100, n = 30, sample_mean = 140, s = 20, CI = 95%, alpha = 0.05\\n   null hypothesis = u = 100\\n   alternate hypothesis = u != 100 [two tail test]\\n   alpha = 0.05\\n   degree of freedom = 29\\n   dicision rule: \\n         if t test is less than -2.045 or greater than 2.045,reject the null hypothesis\\n    calculatin test statistics\\n         t = ((140-100)/20)sqrt = 10.96\\n         since t = 10.96 > 2.045\\n         reject the null hypothesis\\n         '"
      ]
     },
     "execution_count": 2,
     "metadata": {},
     "output_type": "execute_result"
    }
   ],
   "source": [
    "# Q1\n",
    "'''A z-test is used to test a Null Hypothesis if the population variance is known,or if the sample size is larger than 30\n",
    "   ,for an unknown population variance. Z-scores use the average bone density of people of the same age, sex, and size as\n",
    "   a comparator.\n",
    "   Example:\n",
    "      The average heights of all residents in a city is 169cm with std= 3.9 .A DOCTOR believes the mean to be different. \n",
    "he measured the height of 36 individuals and found the average height to be 169.5cm.\n",
    "(a) State null and alternate hypothesis.\n",
    "(b) At a 95% confidence level, is there enough evidence to reject the null hypothesis.\n",
    "sol.\n",
    "u = 169cm, std=3.9, n=36, mean=169.5\n",
    "c.i = .95 , alpha= 1-.95=.05\n",
    "1.null hypothesis(H0) = u=169cm\n",
    "2.alternate hypothesis(H1)= u!=169cm\n",
    "3.based C.I we will draw decision boundary\n",
    "1-.025=.9750\n",
    "   z-score= +-1.96\n",
    "   if z is less than -1.96 or greater than 1.96, reject the null hypothesis.\n",
    "   z- test\n",
    "   Zd= (sample mean - u)/(std/sqrt(n))=2.31\n",
    "   now, 2.31 > 1.96\n",
    "   so, reject the null hypothesis.\n",
    "\n",
    "\n",
    "A t-test is used when the sample size is less than 30 and the population variance is unknown.\n",
    "T-scores compare bone density with that of a healthy person\n",
    " Example:\n",
    "   In the population the average IQ is 100. A team of researchers want to test a new medication to see if it has either\n",
    "   a positive or negative effect on intelligence, or no effect at all. A sample of 30 participants who have taken the \n",
    "   medication has a mean of 140 with a standard deviation of 20. did the medication affect intelligence?\n",
    "   sol.\n",
    "   u = 100, n = 30, sample_mean = 140, s = 20, CI = 95%, alpha = 0.05\n",
    "   null hypothesis = u = 100\n",
    "   alternate hypothesis = u != 100 [two tail test]\n",
    "   alpha = 0.05\n",
    "   degree of freedom = 29\n",
    "   dicision rule: \n",
    "         if t test is less than -2.045 or greater than 2.045,reject the null hypothesis\n",
    "    calculatin test statistics\n",
    "         t = ((140-100)/20)sqrt = 10.96\n",
    "         since t = 10.96 > 2.045\n",
    "         reject the null hypothesis\n",
    "         '''"
   ]
  },
  {
   "cell_type": "code",
   "execution_count": 3,
   "id": "e421dcc4-d873-415a-9518-3d382a9b1c2d",
   "metadata": {},
   "outputs": [
    {
     "data": {
      "text/plain": [
       "'The main difference between one-tailed and two-tailed tests is that one-tailed tests will only have one critical region \\nwhereas two-tailed tests will have two critical regions. If we require a 100(1−α) 100 ( 1 − α ) % confidence interval we have\\nto make some adjustments when using a two-tailed test.'"
      ]
     },
     "execution_count": 3,
     "metadata": {},
     "output_type": "execute_result"
    }
   ],
   "source": [
    "# Q2\n",
    "'''The main difference between one-tailed and two-tailed tests is that one-tailed tests will only have one critical \n",
    "region whereas two-tailed tests will have two critical regions. If we require a 100(1−α) 100 ( 1 − α ) % confidence\n",
    "interval we haveto make some adjustments when using a two-tailed test.'''"
   ]
  },
  {
   "cell_type": "code",
   "execution_count": 4,
   "id": "64950b86-c054-4225-921e-7d930fd9de65",
   "metadata": {},
   "outputs": [
    {
     "data": {
      "text/plain": [
       "\"There are two errors that could potentially occur:\\nType I error (false positive): the test result says you have coronavirus, but you actually don't.\\nType II error (false negative): the test result says you don't have coronavirus, but you actually do\\n\\nExample: Type I vs Type II error\\nYou decide to get tested for COVID-19 based on mild symptoms. There are two errors that could potentially occur:\\nType I error (false positive): the test result says you have coronavirus, but you actually don’t.\\nType II error (false negative): the test result says you don’t have coronavirus, but you actually do.\\n\""
      ]
     },
     "execution_count": 4,
     "metadata": {},
     "output_type": "execute_result"
    }
   ],
   "source": [
    "# Q3\n",
    "'''There are two errors that could potentially occur:\n",
    "Type I error (false positive): the test result says you have coronavirus, but you actually don't.\n",
    "Type II error (false negative): the test result says you don't have coronavirus, but you actually do\n",
    "\n",
    "Example: Type I vs Type II error\n",
    "You decide to get tested for COVID-19 based on mild symptoms. There are two errors that could potentially occur:\n",
    "Type I error (false positive): the test result says you have coronavirus, but you actually don’t.\n",
    "Type II error (false negative): the test result says you don’t have coronavirus, but you actually do.\n",
    "'''"
   ]
  },
  {
   "cell_type": "code",
   "execution_count": 6,
   "id": "19238b25-f3a3-4520-9c61-72a85e33da1f",
   "metadata": {},
   "outputs": [
    {
     "data": {
      "text/plain": [
       "\"Baye's theorem:-\\n   Byesian statistics is an approach to data analysis and parameter estimation based on Baye's theorem.\\n   probability: 1. Independent Event.\\n                         example:\\n                                rolling a dice.\\n                                Pr(1) = 1/6, Pr(2) = 1/6,...\\n                2. Dependent Event.\\n                        example: \\n                             box contain 3 yellow balls and 2 red\\n                             Pr(RED) = 2/5 and than Pr(yellow) = 3/4\\n    Pr(RED and yellow) = Pr(RED)*Pr(yellow/RED)  [this is Baye's theorem] \\n\""
      ]
     },
     "execution_count": 6,
     "metadata": {},
     "output_type": "execute_result"
    }
   ],
   "source": [
    "# Q4\n",
    "'''Baye's theorem:-\n",
    "   Byesian statistics is an approach to data analysis and parameter estimation based on Baye's theorem.\n",
    "   probability: 1. Independent Event.\n",
    "                         example:\n",
    "                                rolling a dice.\n",
    "                                Pr(1) = 1/6, Pr(2) = 1/6,...\n",
    "                2. Dependent Event.\n",
    "                        example: \n",
    "                             box contain 3 yellow balls and 2 red\n",
    "                             Pr(RED) = 2/5 and than Pr(yellow) = 3/4\n",
    "    Pr(RED and yellow) = Pr(RED)*Pr(yellow/RED)  [this is Baye's theorem] \n",
    "'''"
   ]
  },
  {
   "cell_type": "code",
   "execution_count": 1,
   "id": "4f31f48c-e337-4536-a448-5bf5368381f5",
   "metadata": {},
   "outputs": [
    {
     "data": {
      "text/plain": [
       "'A confidence interval is the mean of your estimate plus and minus the variation in that estimate. This is the range of \\nvalues you expect your estimate to fall between if you redo your test, within a certain level of confidence.\\n\\nConfidence, in statistics, is another way to describe probability.\\nFor example, if you construct a confidence interval with a 95% confidence level, you are confident that 95 out of 100 times\\nthe estimate will fall between the upper and lower values specified by the confidence interval.\\n\\nYour desired confidence level is usually one minus the alpha (α) value you used in your statistical test:\\n\\nConfidence level = 1 − a\\n\\nSo if you use an alpha value of p < 0.05 for statistical significance, then your confidence level would be 1 − 0.05 = 0.95,\\nor 95%.\\n'"
      ]
     },
     "execution_count": 1,
     "metadata": {},
     "output_type": "execute_result"
    }
   ],
   "source": [
    "# Q5\n",
    "'''A confidence interval is the mean of your estimate plus and minus the variation in that estimate. This is the range of \n",
    "values you expect your estimate to fall between if you redo your test, within a certain level of confidence.\n",
    "\n",
    "Confidence, in statistics, is another way to describe probability.\n",
    "For example, if you construct a confidence interval with a 95% confidence level, you are confident that 95 out of 100 times\n",
    "the estimate will fall between the upper and lower values specified by the confidence interval.\n",
    "\n",
    "Your desired confidence level is usually one minus the alpha (α) value you used in your statistical test:\n",
    "\n",
    "Confidence level = 1 − a\n",
    "\n",
    "So if you use an alpha value of p < 0.05 for statistical significance, then your confidence level would be 1 − 0.05 = 0.95,\n",
    "or 95%.\n",
    "'''"
   ]
  },
  {
   "cell_type": "code",
   "execution_count": 2,
   "id": "d29c743a-1980-4f75-bb99-df318087e995",
   "metadata": {},
   "outputs": [
    {
     "data": {
      "text/plain": [
       "\"As a numerical example, imagine there is a drug test that is 98% accurate, meaning that 98% of the time, it shows a true\\npositive result for someone using the drug, and 98% of the time, it shows a true negative result for nonusers of the drug.\\n\\nNext, assume 0.5% of people use the drug. If a person selected at random tests positive for the drug,\\nthe following calculation can be made to determine the probability the person is actually a user of the drug.\\n\\n(0.98 x 0.005) / [(0.98 x 0.005) + ((1 - 0.98) x (1 - 0.005))] = 0.0049 / (0.0049 + 0.0199) = 19.76%\\n\\nBayes' Theorem shows that even if a person tested positive in this scenario,\\nthere is a roughly 80% chance the person does not take the drug.\\n  \\n  \\n  the formula used :\\n                    Pr(A/B) = (Pr(A) * Pr(B/A))/ Pr(B)\\n                    this is Baye's theorem\\n\""
      ]
     },
     "execution_count": 2,
     "metadata": {},
     "output_type": "execute_result"
    }
   ],
   "source": [
    "# Q6\n",
    "'''As a numerical example, imagine there is a drug test that is 98% accurate, meaning that 98% of the time, it shows a true\n",
    "positive result for someone using the drug, and 98% of the time, it shows a true negative result for nonusers of the drug.\n",
    "\n",
    "Next, assume 0.5% of people use the drug. If a person selected at random tests positive for the drug,\n",
    "the following calculation can be made to determine the probability the person is actually a user of the drug.\n",
    "\n",
    "(0.98 x 0.005) / [(0.98 x 0.005) + ((1 - 0.98) x (1 - 0.005))] = 0.0049 / (0.0049 + 0.0199) = 19.76%\n",
    "\n",
    "Bayes' Theorem shows that even if a person tested positive in this scenario,\n",
    "there is a roughly 80% chance the person does not take the drug.\n",
    "  \n",
    "  \n",
    "  the formula used :\n",
    "                    Pr(A/B) = (Pr(A) * Pr(B/A))/ Pr(B)\n",
    "                    this is Baye's theorem\n",
    "'''"
   ]
  },
  {
   "cell_type": "code",
   "execution_count": 3,
   "id": "3ac1eff0-1260-4d8c-9624-a218e001b5e9",
   "metadata": {},
   "outputs": [
    {
     "data": {
      "text/plain": [
       "'given:\\n        C.I = 95%, mean = 50, std = 5\\n        alpha = 1 - .95 = .05\\n   1. null hypothesis = u = 50\\n   2. alternate hypothesis = u != 50\\n   3. based C.I we will draw decision boundary\\n1-.025=.9750\\n   z-score= +-1.96\\n   if z is less than -1.96 or greater than 1.96,\\n      reject the null hypothesis.\\n'"
      ]
     },
     "execution_count": 3,
     "metadata": {},
     "output_type": "execute_result"
    }
   ],
   "source": [
    "# Q7\n",
    "'''given:\n",
    "        C.I = 95%, mean = 50, std = 5\n",
    "        alpha = 1 - .95 = .05\n",
    "   1. null hypothesis = u = 50\n",
    "   2. alternate hypothesis = u != 50\n",
    "   3. based C.I we will draw decision boundary\n",
    "1-.025=.9750\n",
    "   z-score= +-1.96\n",
    "   if z is less than -1.96 or greater than 1.96,\n",
    "      reject the null hypothesis.\n",
    "'''"
   ]
  },
  {
   "cell_type": "code",
   "execution_count": 4,
   "id": "922c2bd4-d6bc-4276-80ba-ea0d39ec7911",
   "metadata": {},
   "outputs": [
    {
     "data": {
      "text/plain": [
       "'A larger sample size or lower variability will result in a tighter confidence interval with a smaller margin of error.\\nA smaller sample size or a higher variability will result in a wider confidence interval with a larger margin of error.\\nThe level of confidence also affects the interval width.\\n As sample size increases, the margin of error decreases. As the variability in the population increases, the margin of\\n error increases. As the confidence level increases, the margin of error increases.\\n the larger the sample size, the smaller the sample standard error and therefore the smaller the margin of error.\\n '"
      ]
     },
     "execution_count": 4,
     "metadata": {},
     "output_type": "execute_result"
    }
   ],
   "source": [
    "# Q8\n",
    "'''A larger sample size or lower variability will result in a tighter confidence interval with a smaller margin of error.\n",
    "A smaller sample size or a higher variability will result in a wider confidence interval with a larger margin of error.\n",
    "The level of confidence also affects the interval width.\n",
    " As sample size increases, the margin of error decreases. As the variability in the population increases, the margin of\n",
    " error increases. As the confidence level increases, the margin of error increases.\n",
    " the larger the sample size, the smaller the sample standard error and therefore the smaller the margin of error.\n",
    " '''"
   ]
  },
  {
   "cell_type": "code",
   "execution_count": 6,
   "id": "785c61d5-1557-4f8c-9986-28698f26d479",
   "metadata": {},
   "outputs": [
    {
     "data": {
      "text/plain": [
       "'C.I = 75%, mean = 70, std = 5, alpha = 0.25\\n   1. null hypothesis  = u = 70\\n   2. alternate hypothesis = u != 70\\n   3. based C.I we will draw decision boundary\\n     1 - 0.125 = 0.875\\n      z-score= 1.15\\n   if z is less than -1.15 or greater than 1.15,\\n      reject the null hypothesis.\\n'"
      ]
     },
     "execution_count": 6,
     "metadata": {},
     "output_type": "execute_result"
    }
   ],
   "source": [
    "# Q9\n",
    "'''Given:\n",
    "     C.I = 75%, mean = 70, std = 5, alpha = 0.25\n",
    "   1. null hypothesis  = u = 70\n",
    "   2. alternate hypothesis = u != 70\n",
    "   3. based C.I we will draw decision boundary\n",
    "     1 - 0.125 = 0.875\n",
    "      z-score= 1.15\n",
    "   if z is less than -1.15 or greater than 1.15,\n",
    "      reject the null hypothesis.\n",
    "'''"
   ]
  },
  {
   "cell_type": "code",
   "execution_count": 2,
   "id": "4082dfbe-9d84-4678-bc0c-b482ec997c9c",
   "metadata": {},
   "outputs": [
    {
     "data": {
      "text/plain": [
       "'Given:\\n   n = 50, mean = 6, std = 2.5, CI = 95%,\\n   alpha = 0.05\\n   1. null hypothesis = u = 6\\n   2. alternate hypothesis = u != 6\\n   3. Degree of freedom  = n-1 = 49\\n   4. Decision rule:\\n          if t test is less than -2.045 or greater than 2.045, reject the null hypothesis\\n    calculation:\\n       t = (sample_mean - 6)/(2.5/sqrt50)\\n    if t > 2.045 , reject the null hypothesis\\n'"
      ]
     },
     "execution_count": 2,
     "metadata": {},
     "output_type": "execute_result"
    }
   ],
   "source": [
    "# Q10\n",
    "'''Given:\n",
    "   n = 50, mean = 6, std = 2.5, CI = 95%,\n",
    "   alpha = 0.05\n",
    "   1. null hypothesis = u = 6\n",
    "   2. alternate hypothesis = u != 6\n",
    "   3. Degree of freedom  = n-1 = 49\n",
    "   4. Decision rule:\n",
    "          if t test is less than -2.045 or greater than 2.045, reject the null hypothesis\n",
    "    calculation:\n",
    "       t = (sample_mean - 6)/(2.5/sqrt50)\n",
    "    if t > 2.045 , reject the null hypothesis\n",
    "'''"
   ]
  },
  {
   "cell_type": "code",
   "execution_count": 3,
   "id": "def7a8f9-37ea-4caf-8489-257393056e90",
   "metadata": {},
   "outputs": [
    {
     "data": {
      "text/plain": [
       "'Given:\\n   n = 500, CI = 95%,\\n   alpha = 0.05\\n   1. null hypothesis = u = mean\\n   2. alternate hypothesis = u != mean\\n   3. Degree of freedom  = n-1 = 499\\n   4. Decision rule:\\n          if t test is less than -2.045 or greater than 2.045, reject the null hypothesis\\n    calculation:\\n       t = (sample_mean - mean)/(std/sqrt500)\\n    if t > 2.045 , reject the null hypothesis\\n'"
      ]
     },
     "execution_count": 3,
     "metadata": {},
     "output_type": "execute_result"
    }
   ],
   "source": [
    "# Q11\n",
    "'''Given:\n",
    "   n = 500, CI = 95%,\n",
    "   alpha = 0.05\n",
    "   1. null hypothesis = u = mean\n",
    "   2. alternate hypothesis = u != mean\n",
    "   3. Degree of freedom  = n-1 = 499\n",
    "   4. Decision rule:\n",
    "          if t test is less than -2.045 or greater than 2.045, reject the null hypothesis\n",
    "    calculation:\n",
    "       t = (sample_mean - mean)/(std/sqrt500)\n",
    "    if t > 2.045 , reject the null hypothesis\n",
    "'''"
   ]
  },
  {
   "cell_type": "code",
   "execution_count": 2,
   "id": "c1fb8a61-d66b-4681-9bf5-7ac452767e96",
   "metadata": {},
   "outputs": [
    {
     "data": {
      "text/plain": [
       "'sample 1:\\nGiven:\\n   mean = 85, CI = 95%, std = 6, n=?\\n   alpha = 0.01\\n   1. null hypothesis = u = 85\\n   2. alternate hypothesis = u != 85\\n   3. Degree of freedom  = n-1 \\n   4. Decision rule:\\n          if t test is less than -3.4 or greater than 3.4, reject the null hypothesis\\n    calculation:\\n       t = (sample_mean - 85)/(6/sqrtn)\\n    if t > 3.4 , reject the null hypothesis\\n   \\n  sample 2:\\nGiven:\\n   mean = 82, CI = 95%, std = 5, n=?\\n   alpha = 0.01\\n   1. null hypothesis = u = 82\\n   2. alternate hypothesis = u != 82\\n   3. Degree of freedom  = n-1 \\n   4. Decision rule:\\n          if t test is less than -3.4 or greater than 3.4, reject the null hypothesis\\n    calculation:\\n       t = (sample_mean - 82)/(5/sqrtn)\\n    if t > 3.4 , reject the null hypothesis\\n'"
      ]
     },
     "execution_count": 2,
     "metadata": {},
     "output_type": "execute_result"
    }
   ],
   "source": [
    "# Q12\n",
    "'''sample 1:\n",
    "Given:\n",
    "   mean = 85, CI = 95%, std = 6, n=?\n",
    "   alpha = 0.01\n",
    "   1. null hypothesis = u = 85\n",
    "   2. alternate hypothesis = u != 85\n",
    "   3. Degree of freedom  = n-1 \n",
    "   4. Decision rule:\n",
    "          if t test is less than -3.4 or greater than 3.4, reject the null hypothesis\n",
    "    calculation:\n",
    "       t = (sample_mean - 85)/(6/sqrtn)\n",
    "    if t > 3.4 , reject the null hypothesis\n",
    "   \n",
    "  sample 2:\n",
    "Given:\n",
    "   mean = 82, CI = 95%, std = 5, n=?\n",
    "   alpha = 0.01\n",
    "   1. null hypothesis = u = 82\n",
    "   2. alternate hypothesis = u != 82\n",
    "   3. Degree of freedom  = n-1 \n",
    "   4. Decision rule:\n",
    "          if t test is less than -3.4 or greater than 3.4, reject the null hypothesis\n",
    "    calculation:\n",
    "       t = (sample_mean - 82)/(5/sqrtn)\n",
    "    if t > 3.4 , reject the null hypothesis\n",
    "'''"
   ]
  },
  {
   "cell_type": "code",
   "execution_count": 3,
   "id": "6da9e189-770d-4be9-840e-7bf213e106a8",
   "metadata": {},
   "outputs": [
    {
     "data": {
      "text/plain": [
       "'C.I = 90%, mean = 60, std = 8, alpha = 0.1\\n        sample_mean = 65, n = 50\\n   1. null hypothesis  = u = 60\\n   2. alternate hypothesis = u != 60\\n   3. based C.I we will draw decision boundary\\n     1 - 0.125 = 0.875\\n      z-score= 1.15\\n   if z is less than -1.15 or greater than 1.15,\\n      reject the null hypothesis.\\n   Zd= (sample mean - u)/(std/sqrt(n)) = 4.419\\n   now, 1.15 > 4.419 [false]\\n   so, reject the null hypothesis.\\n    And the mean is greater than 60 (65 may be possible)\\n\\n'"
      ]
     },
     "execution_count": 3,
     "metadata": {},
     "output_type": "execute_result"
    }
   ],
   "source": [
    "# Q13\n",
    "'''Given:\n",
    "   C.I = 90%, mean = 60, std = 8, alpha = 0.1\n",
    "        sample_mean = 65, n = 50\n",
    "   1. null hypothesis  = u = 60\n",
    "   2. alternate hypothesis = u != 60\n",
    "   3. based C.I we will draw decision boundary\n",
    "     1 - 0.05 = 0.95\n",
    "      z-score= 1.15\n",
    "   if z is less than -1.15 or greater than 1.15,\n",
    "      reject the null hypothesis.\n",
    "   Zd= (sample mean - u)/(std/sqrt(n)) = 4.419\n",
    "   now, 1.15 > 4.419 [false]\n",
    "   so, reject the null hypothesis.\n",
    "    And the mean is greater than 60 (65 may be possible)\n",
    "\n",
    "'''"
   ]
  },
  {
   "cell_type": "code",
   "execution_count": 1,
   "id": "c4e5ae2f-00ed-46a6-b640-26d6f32dafc1",
   "metadata": {},
   "outputs": [
    {
     "data": {
      "text/plain": [
       "'Given:\\n   C.I = 90%, mean = 0.25, std = 0.05, alpha = 0.1\\n         n = 30\\n   1. null hypothesis  = u = 0.25\\n   2. alternate hypothesis = u != 0.25\\n   3. based C.I we will draw decision boundary\\n     1 - 0.05 = 0.95\\n      z-score= 1.15\\n   if z is less than -1.15 or greater than 1.15,\\n      reject the null hypothesis.\\n   Zd= (sample mean - u)/(std/sqrt(n)) \\n   now, 1.15 > z [false]\\n   so, reject the null hypothesis.\\n'"
      ]
     },
     "execution_count": 1,
     "metadata": {},
     "output_type": "execute_result"
    }
   ],
   "source": [
    "# Q14\n",
    "'''Given:\n",
    "   C.I = 90%, mean = 0.25, std = 0.05, alpha = 0.1\n",
    "         n = 30\n",
    "   1. null hypothesis  = u = 0.25\n",
    "   2. alternate hypothesis = u != 0.25\n",
    "   3. based C.I we will draw decision boundary\n",
    "     1 - 0.05 = 0.95\n",
    "      z-score= 1.15\n",
    "   if z is less than -1.15 or greater than 1.15,\n",
    "      reject the null hypothesis.\n",
    "   Zd= (sample mean - u)/(std/sqrt(n)) \n",
    "   now, 1.15 > z [false]\n",
    "   so, reject the null hypothesis.\n",
    "'''"
   ]
  },
  {
   "cell_type": "code",
   "execution_count": null,
   "id": "7399b003-58bc-4bd5-977c-873b74697b77",
   "metadata": {},
   "outputs": [],
   "source": []
  }
 ],
 "metadata": {
  "kernelspec": {
   "display_name": "Python 3 (ipykernel)",
   "language": "python",
   "name": "python3"
  },
  "language_info": {
   "codemirror_mode": {
    "name": "ipython",
    "version": 3
   },
   "file_extension": ".py",
   "mimetype": "text/x-python",
   "name": "python",
   "nbconvert_exporter": "python",
   "pygments_lexer": "ipython3",
   "version": "3.10.8"
  }
 },
 "nbformat": 4,
 "nbformat_minor": 5
}
